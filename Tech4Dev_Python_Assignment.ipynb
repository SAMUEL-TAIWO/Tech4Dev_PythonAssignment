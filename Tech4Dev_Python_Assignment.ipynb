{
 "cells": [
  {
   "cell_type": "markdown",
   "id": "f5880705",
   "metadata": {},
   "source": [
    "# EXERCISE 1 5"
   ]
  },
  {
   "cell_type": "raw",
   "id": "2bb607dd",
   "metadata": {},
   "source": [
    "1. What is the output of the following print statements?\n",
    "\n",
    "print(\"\\ta\\tb\\tc\") \n",
    "print(\"\\\\\\\\\")\n",
    "print(\"'\")\n",
    "print(\"\\\"\\\"\\\"\")\n",
    "print(\"C:\\nin\\the downward spiral\")\n",
    "\n",
    "\n",
    "The output of the following print statement will be:\n",
    "a\tb\tc\n",
    "\\\\\n",
    "'\n",
    "\"\"\"\n",
    "C:\n",
    "in\the downward spiral\n",
    "\n",
    "\n",
    "The solution is displayed below"
   ]
  },
  {
   "cell_type": "code",
   "execution_count": 1,
   "id": "9d53c2ec",
   "metadata": {},
   "outputs": [
    {
     "name": "stdout",
     "output_type": "stream",
     "text": [
      "\ta\tb\tc\n"
     ]
    }
   ],
   "source": [
    "print(\"\\ta\\tb\\tc\") "
   ]
  },
  {
   "cell_type": "code",
   "execution_count": 2,
   "id": "ebbc989e",
   "metadata": {},
   "outputs": [
    {
     "name": "stdout",
     "output_type": "stream",
     "text": [
      "\\\\\n"
     ]
    }
   ],
   "source": [
    "print(\"\\\\\\\\\")"
   ]
  },
  {
   "cell_type": "code",
   "execution_count": 3,
   "id": "a3c6b92e",
   "metadata": {},
   "outputs": [
    {
     "name": "stdout",
     "output_type": "stream",
     "text": [
      "'\n"
     ]
    }
   ],
   "source": [
    "print(\"'\")"
   ]
  },
  {
   "cell_type": "code",
   "execution_count": 4,
   "id": "ff739ef7",
   "metadata": {},
   "outputs": [
    {
     "name": "stdout",
     "output_type": "stream",
     "text": [
      "\"\"\"\n"
     ]
    }
   ],
   "source": [
    "print(\"\\\"\\\"\\\"\")"
   ]
  },
  {
   "cell_type": "code",
   "execution_count": 5,
   "id": "4579026e",
   "metadata": {},
   "outputs": [
    {
     "name": "stdout",
     "output_type": "stream",
     "text": [
      "C:\n",
      "in\the downward spiral\n"
     ]
    }
   ],
   "source": [
    "print(\"C:\\nin\\the downward spiral\") #The \\n here means a new line"
   ]
  },
  {
   "cell_type": "raw",
   "id": "4440b894",
   "metadata": {},
   "source": [
    "2. Write a print statement to produce this output:\n",
    "/ \\ // \\\\ /// \\\\\\  \n",
    "\n",
    "\n",
    "The solution is displayed below:"
   ]
  },
  {
   "cell_type": "code",
   "execution_count": 6,
   "id": "f4434743",
   "metadata": {},
   "outputs": [
    {
     "name": "stdout",
     "output_type": "stream",
     "text": [
      "/ \\ // \\\\ /// \\\\\\\n"
     ]
    }
   ],
   "source": [
    "print(\"/ \\\\ // \\\\\\\\ /// \\\\\\\\\\\\\")"
   ]
  },
  {
   "cell_type": "raw",
   "id": "782e220c",
   "metadata": {},
   "source": [
    "3. What print statements will generate this output?\n",
    "\n",
    "This quote is from \n",
    "Irish poet Oscar Wilde:\n",
    "\"Music makes one feel so romantic\n",
    "- at least it always gets on one's nerves-\n",
    "which is the same thing nowadays.\"\n",
    "\n",
    "\n",
    "The solution is displayed below:"
   ]
  },
  {
   "cell_type": "code",
   "execution_count": 7,
   "id": "8d12f1f6",
   "metadata": {},
   "outputs": [
    {
     "name": "stdout",
     "output_type": "stream",
     "text": [
      "This quote is from\n",
      "Irish Poet Oscar Wilde:\n",
      "\"Music makes one feel so romantic\n",
      "- at least it always get on one's nerves-\n",
      "which is the same thing nowadays.\"\n"
     ]
    }
   ],
   "source": [
    "print(\"This quote is from\\nIrish Poet Oscar Wilde:\\n\\\"Music makes one feel so romantic\")\n",
    "print(\"- at least it always get on one's nerves-\\nwhich is the same thing nowadays.\\\"\")\n",
    "      "
   ]
  },
  {
   "cell_type": "raw",
   "id": "dc922b55",
   "metadata": {},
   "source": [
    "5. What values result from the following expressions?\n",
    "\n",
    "– 9 / 5\n",
    "\n",
    "– 695 % 20\n",
    "\n",
    "– 7 + 6 * 5\n",
    "\n",
    "– 7 * 6 + 5\n",
    "\n",
    "– 248 % 100 / 5\n",
    "\n",
    "– 6 * 3 - 9 / 4\n",
    "\n",
    "– (5 - 7) * 4\n",
    "\n",
    "– 6 + (18 % (17 - 12)\n",
    "\n",
    "The values that are gotten from the expressions are:\n",
    "-1.8\n",
    "-15\n",
    "-37\n",
    "-47\n",
    "-9.6\n",
    "-15.75       \n",
    "-(-8)\n",
    "-9\n",
    "\n",
    "\n",
    "The solutions are displayed below:"
   ]
  },
  {
   "cell_type": "code",
   "execution_count": 8,
   "id": "b6d75f54",
   "metadata": {},
   "outputs": [
    {
     "name": "stdout",
     "output_type": "stream",
     "text": [
      "1.8\n"
     ]
    }
   ],
   "source": [
    "print(9/5)"
   ]
  },
  {
   "cell_type": "code",
   "execution_count": 9,
   "id": "d8415942",
   "metadata": {},
   "outputs": [
    {
     "name": "stdout",
     "output_type": "stream",
     "text": [
      "15\n"
     ]
    }
   ],
   "source": [
    "print(695 % 20)"
   ]
  },
  {
   "cell_type": "code",
   "execution_count": 10,
   "id": "d84c6572",
   "metadata": {},
   "outputs": [
    {
     "name": "stdout",
     "output_type": "stream",
     "text": [
      "37\n"
     ]
    }
   ],
   "source": [
    "print(7 + 6 * 5)"
   ]
  },
  {
   "cell_type": "code",
   "execution_count": 11,
   "id": "7d1e1085",
   "metadata": {},
   "outputs": [
    {
     "name": "stdout",
     "output_type": "stream",
     "text": [
      "47\n"
     ]
    }
   ],
   "source": [
    "print(7 * 6 + 5)"
   ]
  },
  {
   "cell_type": "code",
   "execution_count": 12,
   "id": "ab70a7d8",
   "metadata": {},
   "outputs": [
    {
     "name": "stdout",
     "output_type": "stream",
     "text": [
      "48\n"
     ]
    }
   ],
   "source": [
    "#print(248 % 100/ 5)\n",
    "num=print(248 % 100)\n"
   ]
  },
  {
   "cell_type": "code",
   "execution_count": 13,
   "id": "815dce89",
   "metadata": {},
   "outputs": [
    {
     "name": "stdout",
     "output_type": "stream",
     "text": [
      "15.75\n"
     ]
    }
   ],
   "source": [
    "print(6 * 3 - 9 / 4)"
   ]
  },
  {
   "cell_type": "code",
   "execution_count": 14,
   "id": "024c5015",
   "metadata": {},
   "outputs": [
    {
     "data": {
      "text/plain": [
       "-8"
      ]
     },
     "execution_count": 14,
     "metadata": {},
     "output_type": "execute_result"
    }
   ],
   "source": [
    "(5 - 7) * 4"
   ]
  },
  {
   "cell_type": "code",
   "execution_count": 15,
   "id": "d3f4f416",
   "metadata": {},
   "outputs": [
    {
     "name": "stdout",
     "output_type": "stream",
     "text": [
      "9\n"
     ]
    }
   ],
   "source": [
    "print( 6 + (18 % (17 - 12)))"
   ]
  },
  {
   "cell_type": "markdown",
   "id": "fe9dc114",
   "metadata": {},
   "source": [
    "# Exercise 3 4"
   ]
  },
  {
   "cell_type": "raw",
   "id": "adf85940",
   "metadata": {},
   "source": [
    "1. Write a program that finds the maximum value of the given list, assuming that the list\n",
    "contains at least one element.\n",
    "Try your program with the following array\n",
    "[2, 4, 7, 4, 23, 5, 1, 4, 8, 9]"
   ]
  },
  {
   "cell_type": "code",
   "execution_count": 16,
   "id": "baaf2921",
   "metadata": {},
   "outputs": [
    {
     "name": "stdout",
     "output_type": "stream",
     "text": [
      "The maximum value in the val_array: 23\n"
     ]
    }
   ],
   "source": [
    "#using the def function\n",
    "def find_max_val(lst):\n",
    "    max_val=lst[0] #assume your first value is maximum\n",
    "    \n",
    "    for num in lst:\n",
    "        if num > max_val:\n",
    "            max_val = num\n",
    "    return max_val   \n",
    "        \n",
    "val_array = [2, 4, 7, 4, 23, 5, 1, 4, 8, 9]\n",
    "max_val=find_max_val(val_array)\n",
    "print(\"The maximum value in the val_array:\",max_val)"
   ]
  },
  {
   "cell_type": "code",
   "execution_count": 17,
   "id": "c1b963ed",
   "metadata": {},
   "outputs": [
    {
     "name": "stdout",
     "output_type": "stream",
     "text": [
      "The maximum value in the array_list is: 23\n"
     ]
    }
   ],
   "source": [
    "#without using def function\n",
    "array_list = [2, 4, 7, 4, 23, 5, 1, 4, 8, 9]\n",
    "#assume the first element in the array_list is the max_value\n",
    "max_value = array_list[0]\n",
    "#iterate through the array_list to pick the maximum value \n",
    "for num in array_list:\n",
    "    if num > max_val:\n",
    "        max_val = num\n",
    "print(\"The maximum value in the array_list is:\",max_val)\n",
    "        "
   ]
  },
  {
   "cell_type": "code",
   "execution_count": 18,
   "id": "38a43d8d",
   "metadata": {},
   "outputs": [
    {
     "name": "stdout",
     "output_type": "stream",
     "text": [
      "The minimum value is in array_list is: 1\n"
     ]
    }
   ],
   "source": [
    "#To get the minimum value\n",
    "array_list = [2, 4, 7, 4, 23, 5, 1, 4, 8, 9]\n",
    "min_val = array_list[0]\n",
    "for num in array_list:\n",
    "    if num < min_val:\n",
    "        min_val=num\n",
    "print(\"The minimum value is in array_list is:\",min_val)"
   ]
  },
  {
   "cell_type": "raw",
   "id": "985c8ed8",
   "metadata": {},
   "source": [
    "2.Write a program that calculates the average value of the given list.\n",
    "Try your program with the following list\n",
    "[4, 7, 1, 5, 11, 53, 12, 46, 84, 23]\n",
    "\n",
    "\n",
    "The solution is displayed below"
   ]
  },
  {
   "cell_type": "code",
   "execution_count": 19,
   "id": "60f4970f",
   "metadata": {},
   "outputs": [
    {
     "name": "stdout",
     "output_type": "stream",
     "text": [
      "The average list of the given value list is: 24.6\n"
     ]
    }
   ],
   "source": [
    "given_list = [4, 7, 1, 5, 11, 53, 12, 46, 84, 23]\n",
    "#first sum the list by sing the sum function\n",
    "sum_list=sum(given_list)\n",
    "#Then calculate the length of the list by using the len function\n",
    "num_list=len(given_list)\n",
    "#Then divide the functions\n",
    "av_list=sum_list/num_list\n",
    "print(\"The average list of the given value list is:\",av_list)"
   ]
  },
  {
   "cell_type": "raw",
   "id": "27b27b14",
   "metadata": {},
   "source": [
    "3.Write a program that prints the given list of integers in reverse order.\n",
    "Try your program with the following list\n",
    "[2,6, 7, 45, 23, 53, 14, 45, 89, 5]\n",
    "\n",
    "The solution is displayed below:"
   ]
  },
  {
   "cell_type": "code",
   "execution_count": 20,
   "id": "65343f01",
   "metadata": {},
   "outputs": [
    {
     "name": "stdout",
     "output_type": "stream",
     "text": [
      "[5, 89, 45, 14, 53, 23, 45, 7, 6, 2]\n"
     ]
    }
   ],
   "source": [
    "g_list = [2,6, 7, 45, 23, 53, 14, 45, 89, 5]\n",
    "g_list.reverse()\n",
    "print(g_list)"
   ]
  },
  {
   "cell_type": "raw",
   "id": "d442e4fd",
   "metadata": {},
   "source": [
    "4.Write a program that accepts two lists of integers and prints true if each element in the first\n",
    "list is less than the element at the same index in the second list. Your program should print\n",
    "false if the lists are not the same length.\n",
    "\n",
    "The solution is displayed below:"
   ]
  },
  {
   "cell_type": "code",
   "execution_count": 21,
   "id": "9bbb9ac1",
   "metadata": {},
   "outputs": [
    {
     "name": "stdout",
     "output_type": "stream",
     "text": [
      "False\n"
     ]
    }
   ],
   "source": [
    "list_1 = [2,3,4,6,7,8,1,3,5,4,9,12,4,5,6,7,8,9]\n",
    "list_2 =[3,5,7,9,8,7,3,5,1,2,3,4,6,7,8,]\n",
    "if len(list_1) < len(list_2):\n",
    "    print(\"True\")\n",
    "else:\n",
    "    print(\"False\")\n"
   ]
  },
  {
   "cell_type": "raw",
   "id": "1db93ed6",
   "metadata": {},
   "source": [
    "5.Write a program that accepts a list of integers and two indexes and swaps the elements at\n",
    "those indexes\n",
    "\n",
    "\n",
    "The solution is displayed below"
   ]
  },
  {
   "cell_type": "code",
   "execution_count": 22,
   "id": "e6b9f074",
   "metadata": {},
   "outputs": [
    {
     "name": "stdout",
     "output_type": "stream",
     "text": [
      "original listx: [2, 3, 4, 6, 7, 8, 1, 3, 5, 4, 9, 12, 4, 5, 6, 7, 8, 9]\n",
      "valid index:swapped successfully\n",
      "updated listx: [2, 3, 4, 6, 8, 7, 1, 3, 5, 4, 9, 12, 4, 5, 6, 7, 8, 9]\n"
     ]
    }
   ],
   "source": [
    "my_listx = [2,3,4,6,7,8,1,3,5,4,9,12,4,5,6,7,8,9]\n",
    "# Assume index 1 and 2 a value\n",
    "index1 =4\n",
    "index2 =5\n",
    "print(\"original listx:\", my_listx)\n",
    "if 0 <= index1 < len(my_listx) and 0 <= index2 < len(my_listx):\n",
    "    my_listx[index1],my_listx[index2] = my_listx[index2],my_listx[index1]\n",
    "    print(\"valid index:swapped successfully\")\n",
    "    print(\"updated listx:\",my_listx)\n",
    "else:\n",
    "    print(\"invalid index:Not swapped\")\n",
    "    \n"
   ]
  },
  {
   "cell_type": "raw",
   "id": "197e5020",
   "metadata": {},
   "source": [
    "6.Write a program that accepts two lists of integers and prints a new list containing all\n",
    "elements of the first list followed by all elements of the second.\n",
    "\n",
    "The solution is displayed below :"
   ]
  },
  {
   "cell_type": "code",
   "execution_count": 23,
   "id": "37c33eaf",
   "metadata": {},
   "outputs": [
    {
     "data": {
      "text/plain": [
       "[2,\n",
       " 4,\n",
       " 7,\n",
       " 4,\n",
       " 23,\n",
       " 5,\n",
       " 1,\n",
       " 4,\n",
       " 8,\n",
       " 9,\n",
       " 2,\n",
       " 3,\n",
       " 4,\n",
       " 6,\n",
       " 7,\n",
       " 8,\n",
       " 1,\n",
       " 3,\n",
       " 5,\n",
       " 4,\n",
       " 9,\n",
       " 12,\n",
       " 4,\n",
       " 5,\n",
       " 6,\n",
       " 7,\n",
       " 8,\n",
       " 9]"
      ]
     },
     "execution_count": 23,
     "metadata": {},
     "output_type": "execute_result"
    }
   ],
   "source": [
    "int_list1= [2, 4, 7, 4, 23, 5, 1, 4, 8, 9]\n",
    "int_list2= [2,3,4,6,7,8,1,3,5,4,9,12,4,5,6,7,8,9]\n",
    "int_all = int_list1 + int_list2\n",
    "int_all"
   ]
  },
  {
   "cell_type": "raw",
   "id": "e4f5696a",
   "metadata": {},
   "source": [
    "7.Write a program that accepts a list of integers and an integer value as its parameters and\n",
    "prints the last index at which the value occurs in the list. The program should print –1 if the\n",
    "value is not found. For example, in the list [74, 85, 102, 99, 101, 85, 56], the last index of the\n",
    "value 85 is 5.\n",
    "\n",
    "The solution is displayed below"
   ]
  },
  {
   "cell_type": "code",
   "execution_count": 24,
   "id": "ba666ec0",
   "metadata": {},
   "outputs": [
    {
     "name": "stdout",
     "output_type": "stream",
     "text": [
      "The last index is: 5\n"
     ]
    }
   ],
   "source": [
    "my_list = [74, 85, 102, 99, 101, 85, 56]\n",
    "search_value = 85\n",
    "if search_value in my_list:\n",
    "    last_index = len(my_list)-1-my_list[::-1].index(search_value)\n",
    "    print(\"The last index is:\",last_index)\n",
    "else:\n",
    "    print(\"The last index is:\",-1)"
   ]
  },
  {
   "cell_type": "raw",
   "id": "f4cbb860",
   "metadata": {},
   "source": [
    "\n",
    "8.Write a program that prints the range of values in a list of integers. The range is defined as 1\n",
    "more than the difference between the maximum and minimum values in the list. For\n",
    "example, if a list contains the values [36, 12, 25, 19, 46, 31, 22], the program should return\n",
    "35. You may assume that the list has at least one element.\n",
    "\n",
    "\n",
    "The solution is displayed below:"
   ]
  },
  {
   "cell_type": "code",
   "execution_count": 25,
   "id": "1fcbacad",
   "metadata": {},
   "outputs": [
    {
     "name": "stdout",
     "output_type": "stream",
     "text": [
      "The list range is 35\n"
     ]
    }
   ],
   "source": [
    "#list of integers\n",
    "my_list = [36, 12, 25, 19, 46, 31, 22]\n",
    "#calculate the list range\n",
    "list_range = max(my_list)- min(my_list)+1\n",
    "#print the result\n",
    "print(\"The list range is\",list_range)"
   ]
  },
  {
   "cell_type": "raw",
   "id": "6aa515c6",
   "metadata": {},
   "source": [
    "9.Write a program that accepts a list of integers, a minimum value, and a maximum value and\n",
    "prints the count of how many elements from the list fall between the minimum and\n",
    "maximum (inclusive). For example, in the list [14, 1, 22, 17, 36, 7, -43, 5], for minimum value\n",
    "4 and maximum value 17, there are four elements whose values fall between 4 and 17.\n",
    "\n",
    "The final answer is displayed below:"
   ]
  },
  {
   "cell_type": "code",
   "execution_count": 26,
   "id": "af07ac3f",
   "metadata": {},
   "outputs": [
    {
     "name": "stdout",
     "output_type": "stream",
     "text": [
      "The count of elements that falls between 4 and 17 is: 4\n"
     ]
    }
   ],
   "source": [
    "#list of integers\n",
    "my_list = [14, 1, 22, 17, 36, 7, -43, 5]\n",
    "count = 0\n",
    "#minimum and maximum value\n",
    "min_value=4\n",
    "max_value=17\n",
    "for num in my_list:\n",
    "    if min_value<=num<=max_value :\n",
    "         count+=1   \n",
    "print(f\"The count of elements that falls between {min_value} and {max_value} is:\",count)\n",
    "\n"
   ]
  },
  {
   "cell_type": "raw",
   "id": "22db0509",
   "metadata": {},
   "source": [
    "10. Write a program that accepts a list of real numbers and prints true if the list is in sorted\n",
    "(nondecreasing) order and false otherwise. For example, if lists named list1 and list2 store\n",
    "[16.1, 12.3, 22.2, 14.4] and [1.5, 4.3, 7.0, 19.5, 25.1, 46.2] respectively, the program should\n",
    "print false for list1 and true for list2 respectively. Assume the list has at least one element. A\n",
    "one-element list is sorted.\n",
    "\n",
    "The solution is displayed below"
   ]
  },
  {
   "cell_type": "code",
   "execution_count": 27,
   "id": "8a566e99",
   "metadata": {},
   "outputs": [
    {
     "name": "stdout",
     "output_type": "stream",
     "text": [
      "Is list1 sorted? False\n",
      "Is list2 sorted? True\n"
     ]
    }
   ],
   "source": [
    "# List of real numbers\n",
    "list1 = [16.1, 12.3, 22.2, 14.4]\n",
    "list2 = [1.5, 4.3, 7.0, 19.5, 25.1, 46.2]\n",
    "\n",
    "# Check if the list is sorted (non-decreasing) and print the result\n",
    "print(f\"Is list1 sorted? {list1 == sorted(list1)}\")\n",
    "print(f\"Is list2 sorted? {list2 == sorted(list2)}\")\n"
   ]
  },
  {
   "cell_type": "markdown",
   "id": "378f75e9",
   "metadata": {},
   "source": [
    "# EXERCISE 4 5"
   ]
  },
  {
   "cell_type": "raw",
   "id": "f70d8b9b",
   "metadata": {},
   "source": [
    "1. Write a program to produce the following output using for loop\n",
    "+----+\n",
    "\\ /\n",
    "/ \\\n",
    "\\ /\n",
    "/ \\\n",
    "\\ /\n",
    "/ \\\n",
    "+----+\n",
    "\n",
    "\n",
    "The Solution will be displayed below:"
   ]
  },
  {
   "cell_type": "code",
   "execution_count": 28,
   "id": "b7cc097e",
   "metadata": {},
   "outputs": [
    {
     "name": "stdout",
     "output_type": "stream",
     "text": [
      "+----+\n",
      "\\ /\n",
      "/ \\\n",
      "\\ /\n",
      "/ \\\n",
      "\\ /\n",
      "/ \\\n",
      "\\ /\n",
      "/ \\\n",
      "+----+\n"
     ]
    }
   ],
   "source": [
    "output = \"+\"\n",
    "for _ in range(4):\n",
    "    output +=\"-\"\n",
    "output += \"+\"\n",
    "#Print the first line\n",
    "print(output)\n",
    "for _ in range(4):\n",
    "    print(\"\\\\ /\")\n",
    "    print(\"/ \\\\\")\n",
    "#print the last line\n",
    "print(output)"
   ]
  },
  {
   "cell_type": "raw",
   "id": "f070f37b",
   "metadata": {},
   "source": [
    "2.Write a program to produce the following output using for loop\n",
    "**********\n",
    "**********\n",
    "**********\n",
    "**********\n",
    "**********\n",
    "\n"
   ]
  },
  {
   "cell_type": "code",
   "execution_count": 29,
   "id": "612cbab3",
   "metadata": {},
   "outputs": [
    {
     "name": "stdout",
     "output_type": "stream",
     "text": [
      "**********\n",
      "**********\n",
      "**********\n",
      "**********\n",
      "**********\n"
     ]
    }
   ],
   "source": [
    "for star in range(5):\n",
    "    print(\"**********\")"
   ]
  },
  {
   "cell_type": "raw",
   "id": "6e263b9c",
   "metadata": {},
   "source": [
    "3. Complete the code for the following for loop:\n",
    "for in range(1,7):\n",
    " //your code here\n",
    "so that it prints the following numbers, one per line:\n",
    "a) 1 b) 2 c) 4 d) 30 e) -7 f) 97 g) -4\n",
    "   2    4   19    20    -3    94    14\n",
    "   3    6   34    10     1    91    32\n",
    "   4    8   49    0      5    88    50\n",
    "   5    10  64   -10     9    85    68\n",
    "   6    12  79   -20     13   82    86\n",
    "   \n",
    "   \n",
    "The solution is displayed below:"
   ]
  },
  {
   "cell_type": "code",
   "execution_count": 30,
   "id": "913c3b67",
   "metadata": {},
   "outputs": [
    {
     "name": "stdout",
     "output_type": "stream",
     "text": [
      "a) 1 b) 2 c) 4 d) 30 e) -7 f) 97 g) -4\n",
      "   1    2   2   9   -9   94   -28\n",
      "   2    4   9   8   -6   95   -14\n",
      "   3    6   16   7   -3   96   0\n",
      "   4    8   23   6   0   97   14\n",
      "   5    10   30   5   3   98   28\n",
      "   6    12   37   4   6   99   42\n"
     ]
    }
   ],
   "source": [
    "# Header line\n",
    "print(\"a) 1 b) 2 c) 4 d) 30 e) -7 f) 97 g) -4\")\n",
    "\n",
    "# Loop for each row\n",
    "for i in range(1, 7):\n",
    "    # Print the current row's first character\n",
    "    print(f\"   {i}\", end=\"\")\n",
    "\n",
    "    # Loop for each column within the row\n",
    "    for j in range(1, 8):\n",
    "        if j == 1:\n",
    "            # Skip the first column as it's already printed\n",
    "            continue\n",
    "        elif j == 2:\n",
    "            # Print the current column value\n",
    "            print(f\"    {i * 2}\", end=\"\")\n",
    "        elif j == 3:\n",
    "            print(f\"   {i * 7 - 5}\", end=\"\")\n",
    "        elif j == 4:\n",
    "            print(f\"   {10 - i}\", end=\"\")\n",
    "        elif j == 5:\n",
    "            print(f\"   {(i - 4) * 3}\", end=\"\")\n",
    "        elif j == 6:\n",
    "            print(f\"   {93 + i}\", end=\"\")\n",
    "        elif j == 7:\n",
    "            print(f\"   {(i - 3) * 14}\", end=\"\")\n",
    "\n",
    "    # Move to the next line after printing each row\n",
    "    print()\n"
   ]
  },
  {
   "cell_type": "raw",
   "id": "66d37f3b",
   "metadata": {},
   "source": [
    "4.Write a program to produce the following output using for loops. Then\n",
    "use a class constant to make it possible to change the number of lines in\n",
    "the figure.\n",
    "1\n",
    "22\n",
    "333\n",
    "4444\n",
    "55555\n",
    "666666\n",
    "7777777  \n",
    "\n",
    "\n",
    "The solution is displayed below:"
   ]
  },
  {
   "cell_type": "code",
   "execution_count": 31,
   "id": "4d996a82",
   "metadata": {},
   "outputs": [
    {
     "name": "stdout",
     "output_type": "stream",
     "text": [
      "1\n",
      "22\n",
      "333\n",
      "4444\n",
      "55555\n",
      "666666\n",
      "7777777\n"
     ]
    }
   ],
   "source": [
    "# Class constant to determine the number of lines\n",
    "NUM_LINES = 7\n",
    "\n",
    "# Use nested for loops to print the pyramid\n",
    "for i in range(1, NUM_LINES + 1):\n",
    "    for j in range(i):\n",
    "        print(i, end=\"\")\n",
    "    print()\n"
   ]
  },
  {
   "cell_type": "raw",
   "id": "be244c90",
   "metadata": {},
   "source": [
    "5.Write a method named pay that accepts two parameters: a real number\n",
    "for a TA's salary, and an integer for the number of hours the TA worked\n",
    "this week. The method should return how much money to pay the TA.\n",
    "For example, the call\n",
    "pay(5.50, 6)\n",
    "should return\n",
    "33.0.\n",
    "The TA should receive \"overtime\" pay of 1 ½ normal salary for any hours\n",
    "above 8. For example, the call pay(4.00, 11) should return (4.00 *8) + (6.00 * 3) or 50.0. \n",
    "\n",
    "\n",
    "The answer will be displayed today:"
   ]
  },
  {
   "cell_type": "code",
   "execution_count": 33,
   "id": "e6dbd119",
   "metadata": {},
   "outputs": [
    {
     "name": "stdout",
     "output_type": "stream",
     "text": [
      "33.0\n"
     ]
    }
   ],
   "source": [
    "hourly_rate = 5.50\n",
    "hours_worked = 6\n",
    "\n",
    "normal_hours = 8\n",
    "overtime_rate = 1.5\n",
    "\n",
    "if hours_worked <= normal_hours:\n",
    "    # Regular pay for normal hours\n",
    "    total_pay = hourly_rate * hours_worked\n",
    "else:\n",
    "    # Calculate pay for normal hours\n",
    "    normal_pay = hourly_rate * normal_hours\n",
    "\n",
    "    # Calculate pay for overtime hours\n",
    "    overtime_hours = hours_worked - normal_hours\n",
    "    overtime_pay = hourly_rate * overtime_rate * overtime_hours\n",
    "\n",
    "    # Total pay is the sum of normal and overtime pay\n",
    "    total_pay = normal_pay + overtime_pay\n",
    "\n",
    "# Print the result\n",
    "print(total_pay)\n"
   ]
  },
  {
   "cell_type": "raw",
   "id": "4cb16df2",
   "metadata": {},
   "source": [
    "6.Consider the following method for converting milliseconds into days:\n",
    "// converts milliseconds to days\n",
    "def toDays(millis):\n",
    " return millis / 1000.0 / 60.0 / 60.0 / 24.0\n",
    "Write a similar method named area that takes as a parameter the radius of\n",
    "a circle and that returns the area of the circle. For example, the call\n",
    "area(2.0);\n",
    "should return\n",
    "12.566370614359172.\n",
    "Recall that area can be computed as π times the radius squared and that\n",
    "Python has a constant called math.pi\n",
    "\n",
    "The solution is displayed below:    "
   ]
  },
  {
   "cell_type": "code",
   "execution_count": 34,
   "id": "2e420594",
   "metadata": {},
   "outputs": [
    {
     "name": "stdout",
     "output_type": "stream",
     "text": [
      "12.566370614359172\n"
     ]
    }
   ],
   "source": [
    "import math\n",
    "def area(radius):\n",
    "    return math.pi * radius**2\n",
    "radius = 2.0\n",
    "result = area(radius)\n",
    "print(result)"
   ]
  },
  {
   "cell_type": "raw",
   "id": "4c3aff51",
   "metadata": {},
   "source": [
    "7. Copy and paste the following code into pythons IDLE script\n",
    "environment.\n",
    " low = 1\n",
    " high = 1001\n",
    " sum = 0\n",
    " for i in range(low,high):\n",
    " sum += i\n",
    "\n",
    " print(\"sum = \" , sum)\n",
    "\n",
    "Modify the code to use a input to prompt the user for the values of low\n",
    "and high. Below is a sample execution in which the user asks for the same\n",
    "values as in the original program (1 through 1000):\n",
    "low? 1\n",
    "high? 1001\n",
    "sum = 500500\n",
    "Below is an execution with different values for low and high:\n",
    "low? 300\n",
    "high? 5298\n",
    "sum = 13986903\n",
    "You should exactly reproduce this format.\n",
    "\n",
    "\n",
    "\n",
    "The solution is displayed below:"
   ]
  },
  {
   "cell_type": "code",
   "execution_count": 36,
   "id": "d62e3a47",
   "metadata": {},
   "outputs": [
    {
     "name": "stdout",
     "output_type": "stream",
     "text": [
      "low? 1\n",
      "high? 1001\n",
      "sum =  500500\n"
     ]
    }
   ],
   "source": [
    "# Prompt the user to enter the lower bound of the range as an integer\n",
    "low = int(input(\"low? \"))\n",
    "\n",
    "# Prompt the user to enter the upper bound of the range as an integer\n",
    "high = int(input(\"high? \"))\n",
    "\n",
    "# Initialize a variable to store the sum of numbers in the specified range\n",
    "sum_result = 0\n",
    "\n",
    "# Iterate over the range from 'low' to 'high' (excluding 'high')\n",
    "for i in range(low, high):\n",
    "    # Add the current value of 'i' to the sum_result\n",
    "    sum_result += i\n",
    "\n",
    "# Print the final sum_result after the loop is complete\n",
    "print(\"sum = \", sum_result)\n"
   ]
  },
  {
   "cell_type": "raw",
   "id": "eef3b6b9",
   "metadata": {},
   "source": [
    "8.Write a program using while loop that prompts the user for numbers until\n",
    "the user types 0, then outputs their sum."
   ]
  },
  {
   "cell_type": "code",
   "execution_count": 41,
   "id": "f66cfe68",
   "metadata": {},
   "outputs": [
    {
     "name": "stdout",
     "output_type": "stream",
     "text": [
      "input until 0:0\n",
      "sum of entered number is: 0\n"
     ]
    }
   ],
   "source": [
    "#initialize your sum to be zero\n",
    "sum = 0\n",
    "user_input = int(input(\"input until 0:\"))\n",
    "#using the while loop\n",
    "while True:\n",
    "    if user_input == 0:\n",
    "            sum += user_input\n",
    "            break #Exit the lOOP if zero is entered\n",
    "#print to display the result        \n",
    "print(\"sum of entered number is:\",sum)"
   ]
  },
  {
   "cell_type": "raw",
   "id": "13742417",
   "metadata": {},
   "source": [
    "9. Write a program using while loop that prompts the user for numbers until\n",
    "the user types -1, then outputs their sum."
   ]
  },
  {
   "cell_type": "code",
   "execution_count": 42,
   "id": "dbb3279d",
   "metadata": {},
   "outputs": [
    {
     "name": "stdout",
     "output_type": "stream",
     "text": [
      "input until -1 :-1\n",
      "The sum of numbers entered =  0\n"
     ]
    }
   ],
   "source": [
    "#initialize your sum to be zero\n",
    "sum_input = 0\n",
    "user_input = int(input(\"input until -1 :\"))\n",
    "#using the while loop\n",
    "while True:\n",
    "    if user_input == -1:\n",
    "        break#Exit the loop if zero is entered\n",
    "#print to display the result \n",
    "        sum_input += user_input\n",
    "print(\"The sum of numbers entered = \", sum_input)\n",
    "        \n",
    "         \n"
   ]
  },
  {
   "cell_type": "raw",
   "id": "f6fdbfe9",
   "metadata": {},
   "source": [
    "10.Write a method named repl that accepts a String and a number of\n",
    "repetitions as parameters and returns the String concatenated that many\n",
    "times. For example, the call repl(\"hello\", 3) returns \"hellohellohello\".\n",
    "If the number of repetitions is 0 or less, an empty string is returned.\n",
    "\n",
    "The solution is diplayed below:"
   ]
  },
  {
   "cell_type": "code",
   "execution_count": 54,
   "id": "ccb670ef",
   "metadata": {},
   "outputs": [
    {
     "name": "stdout",
     "output_type": "stream",
     "text": [
      "hellohellohello\n"
     ]
    }
   ],
   "source": [
    "def repl(name,num):\n",
    "#check if the repition are less than or equal to zero   \n",
    "    if num <= 0:\n",
    "#it does not return any output if the repitition is less than or equal to 0       \n",
    "         return \"\"\n",
    "#concatinate the input to get result \n",
    "    result =name * num\n",
    "    return result\n",
    "\n",
    "name = \"hello\" \n",
    "num = 3\n",
    "result = repl(name,num)\n",
    "#print the result\n",
    "print(result)\n"
   ]
  },
  {
   "cell_type": "raw",
   "id": "6a126191",
   "metadata": {},
   "source": [
    "11.Write a method called printRange that accepts two integers as arguments and\n",
    "prints the sequence of numbers between the two arguments, separated by\n",
    "spaces. Print an increasing sequence if the first argument is smaller than\n",
    "the second; otherwise, print a decreasing sequence. If the two numbers\n",
    "are the same, that number should be printed by itself. Here are some\n",
    "sample calls to printRange:\n",
    "printRange(2, 7)\n",
    "printRange(19, 11)\n",
    "printRange(5, 5)\n",
    "The output produced should be the following:\n",
    "2 3 4 5 6 7\n",
    "19 18 17 16 15 14 13 12 11\n",
    "5\n",
    "\n",
    "\n",
    "The solution is displayed below:"
   ]
  },
  {
   "cell_type": "code",
   "execution_count": 46,
   "id": "f9e4f62b",
   "metadata": {},
   "outputs": [
    {
     "name": "stdout",
     "output_type": "stream",
     "text": [
      "2 3 4 5 6 7 \n",
      "19 18 17 16 15 14 13 12 11 \n",
      "5\n"
     ]
    }
   ],
   "source": [
    "# Sample calls\n",
    "start1, end1 = 2, 7\n",
    "start2, end2 = 19, 11\n",
    "start3, end3 = 5, 5\n",
    "\n",
    "# Print the sequence for the first call\n",
    "if start1 < end1:\n",
    "    for num in range(start1, end1 + 1):\n",
    "        print(num, end=\" \")\n",
    "elif start1 > end1:\n",
    "    for num in range(start1, end1 - 1, -1):\n",
    "        print(num, end=\" \")\n",
    "else:\n",
    "    print(start1)\n",
    "\n",
    "print()\n",
    "\n",
    "# Print the sequence for the second call\n",
    "if start2 < end2:\n",
    "    for num in range(start2, end2 + 1):\n",
    "        print(num, end=\" \")\n",
    "elif start2 > end2:\n",
    "    for num in range(start2, end2 - 1, -1):\n",
    "        print(num, end=\" \")\n",
    "else:\n",
    "    print(start2)\n",
    "\n",
    "print()\n",
    "\n",
    "# Print the sequence for the third call\n",
    "if start3 < end3:\n",
    "    for num in range(start3, end3 + 1):\n",
    "        print(num, end=\" \")\n",
    "elif start3 > end3:\n",
    "    for num in range(start3, end3 - 1, -1):\n",
    "        print(num, end=\" \")\n",
    "else:\n",
    "    print(start3)\n",
    "\n",
    "            \n",
    "    \n",
    "        \n"
   ]
  },
  {
   "cell_type": "raw",
   "id": "b2857dc0",
   "metadata": {},
   "source": [
    "12.Write a method named smallestLargest that asks the user to enter numbers,\n",
    "then prints the smallest and largest of all the numbers typed in by the\n",
    "user. You may assume the user enters a valid number greater than 0 for\n",
    "the number of numbers to read. Here is an example dialogue:\n",
    "How many numbers do you want to enter? 4\n",
    "Number 1: 5\n",
    "Number 2: 11\n",
    "Number 3: -2\n",
    "Number 4: 3\n",
    "Smallest = -2\n",
    "Largest = 11"
   ]
  },
  {
   "cell_type": "code",
   "execution_count": 47,
   "id": "0d3ef11d",
   "metadata": {},
   "outputs": [
    {
     "name": "stdout",
     "output_type": "stream",
     "text": [
      "How many num do you want to input(must be greater than zero):5\n",
      "NUMBER 1:9\n",
      "NUMBER 2:8\n",
      "NUMBER 3:7\n",
      "NUMBER 4:5\n",
      "NUMBER 5:5\n",
      "smallest: 5.0\n",
      "largest: 9.0\n"
     ]
    }
   ],
   "source": [
    "user_input = int(input(\"How many num do you want to input(must be greater than zero):\"))\n",
    "smallest = float(\"inf\")\n",
    "largest = float(\"-inf\")\n",
    "for i in range(1,user_input+1):\n",
    "    num_numbers=float(input(f\"NUMBER {i}:\"))\n",
    "    smallest = min(smallest,num_numbers)\n",
    "    largest = max(largest,num_numbers)\n",
    "#print the smallest and largest number to get the result\n",
    "print(\"smallest:\",smallest) \n",
    "#or print(f\"smallest = {smallest}\")\n",
    "print(\"largest:\",largest)"
   ]
  },
  {
   "cell_type": "raw",
   "id": "412e1357",
   "metadata": {},
   "source": [
    "13.Write a method called printAverage that uses a sentinel(while) loop to\n",
    "repeatedly prompt the user for numbers. Once the user types any number\n",
    "less than zero, the method should display the average of all nonnegative\n",
    "numbers typed. Display the average as a double. Here is a sample\n",
    "dialogue with the user:\n",
    "Type a number: 7\n",
    "Type a number: 4\n",
    "Type a number: 16\n",
    "Type a number: –4\n",
    "Average was 9.0\n",
    "If the first number that the user types is negative, do not print an average:\n",
    "Type a number: –2\n"
   ]
  },
  {
   "cell_type": "code",
   "execution_count": 49,
   "id": "63ba1c43",
   "metadata": {},
   "outputs": [
    {
     "name": "stdout",
     "output_type": "stream",
     "text": [
      "Type a number: 6\n",
      "Type a number: 0\n",
      "Type a number: -7\n",
      "Average was 3.0\n"
     ]
    }
   ],
   "source": [
    "# Initialize variables for sum and count\n",
    "total = 0\n",
    "count = 0\n",
    "\n",
    "while True:\n",
    "    # Prompt the user to type a number\n",
    "    user_input = float(input(\"Type a number: \"))\n",
    "\n",
    "    # Check if the entered number is less than zero\n",
    "    if user_input < 0:\n",
    "        # Check if any nonnegative numbers were entered\n",
    "        if count > 0:\n",
    "            # Calculate and print the average\n",
    "            average = total / count\n",
    "            print(f\"Average was {average}\")\n",
    "        else:\n",
    "            print(\"No nonnegative numbers were entered.\")\n",
    "        \n",
    "        break  # Exit the loop\n",
    "\n",
    "    # Update sum and count with the nonnegative number\n",
    "    total += user_input\n",
    "    count += 1\n"
   ]
  },
  {
   "cell_type": "raw",
   "id": "3bb64881",
   "metadata": {},
   "source": [
    "14.Write a method named numUnique that takes three integers as parameters\n",
    "and returns the number of unique integers among the three. For example,\n",
    "the call numUnique(18, 3, 4) should return 3 because the parameters\n",
    "have three different values. By contrast, the call numUnique(6, 7, 6)\n",
    "should return 2 because there are only two unique numbers among the\n",
    "three parameters: 6 and 7.\n",
    "    \n",
    "The solution is displayed below:"
   ]
  },
  {
   "cell_type": "code",
   "execution_count": 50,
   "id": "6a5257dd",
   "metadata": {},
   "outputs": [
    {
     "name": "stdout",
     "output_type": "stream",
     "text": [
      "3\n",
      "2\n"
     ]
    }
   ],
   "source": [
    "#define the unique numbers\n",
    "def numUnique(num1,num2,num3):\n",
    "    unique_numbers = set([num1,num2,num3])\n",
    "    return len(unique_numbers)\n",
    "result1 = numUnique(18, 3, 4)\n",
    "print(result1)\n",
    "result2 = numUnique(6, 7, 6)\n",
    "print(result2)"
   ]
  },
  {
   "cell_type": "raw",
   "id": "9c7396e4",
   "metadata": {},
   "source": [
    "15.A Random object generates pseudo-random numbers. Find out how to\n",
    "use the Random class and write a program that simulates rolling of two 6-\n",
    "sided dice until their combined result comes up as 7. One possible output\n",
    "can be seen as below:\n",
    "2 + 4 = 6\n",
    "3 + 5 = 8\n",
    "5 + 6 = 11\n",
    "1 + 1 = 2\n",
    "4 + 3 = 7\n",
    "You won after 5 tries!\n",
    "\n",
    "The solution is displayed below"
   ]
  },
  {
   "cell_type": "code",
   "execution_count": 52,
   "id": "47a5f725",
   "metadata": {},
   "outputs": [
    {
     "name": "stdout",
     "output_type": "stream",
     "text": [
      "1 + 3 = 4\n",
      "2 + 4 = 6\n",
      "2 + 3 = 5\n",
      "4 + 1 = 5\n",
      "4 + 3 = 7\n",
      "you won after 5 tries!\n"
     ]
    }
   ],
   "source": [
    "\n",
    "import random\n",
    "tries = 0 \n",
    "while True:\n",
    "    die1 = random.randint(1,6)\n",
    "    die2 = random.randint(1,6)\n",
    "    print(f\"{die1} + {die2} = {die1 + die2}\")\n",
    "    tries += 1\n",
    "    if die1 + die2 ==7:\n",
    "        print(f\"you won after {tries} tries!\")\n",
    "        break "
   ]
  },
  {
   "cell_type": "markdown",
   "id": "468a11f9",
   "metadata": {},
   "source": [
    "# ASSIGNMENT ON DATA TYPES"
   ]
  },
  {
   "cell_type": "markdown",
   "id": "1d75df30",
   "metadata": {},
   "source": [
    "check at least 20 method in list,tuples,dictionaries and give an example writing a python code"
   ]
  },
  {
   "cell_type": "raw",
   "id": "87ecc8bd",
   "metadata": {},
   "source": [
    "1.LIST"
   ]
  },
  {
   "cell_type": "code",
   "execution_count": 61,
   "id": "3f342d44",
   "metadata": {},
   "outputs": [
    {
     "data": {
      "text/plain": [
       "[9, 4, 10, 5, 2, 3, 9, 8, 7, 16, 23, 18]"
      ]
     },
     "execution_count": 61,
     "metadata": {},
     "output_type": "execute_result"
    }
   ],
   "source": [
    "# remove is used to remove the first occurence of 8 in the list\n",
    "my_list = [9,4,10,5,2,3,9,8,8,7,16,23,18]\n",
    "remove_list = my_list.remove(8)\n",
    "my_list"
   ]
  },
  {
   "cell_type": "code",
   "execution_count": 77,
   "id": "858e8fca",
   "metadata": {},
   "outputs": [
    {
     "data": {
      "text/plain": [
       "[9, 4, 10, 5, 2]"
      ]
     },
     "execution_count": 77,
     "metadata": {},
     "output_type": "execute_result"
    }
   ],
   "source": [
    "# del function is used to delete the range of indices from 5 downward\n",
    "my_list = [9,4,10,5,2,3,9,8,8,7,16,23,18]\n",
    "del my_list[5:]\n",
    "my_list"
   ]
  },
  {
   "cell_type": "code",
   "execution_count": 78,
   "id": "b5d7156a",
   "metadata": {},
   "outputs": [
    {
     "data": {
      "text/plain": [
       "[18, 23, 16, 7, 8, 8, 9, 3, 2, 5, 10, 4, 9]"
      ]
     },
     "execution_count": 78,
     "metadata": {},
     "output_type": "execute_result"
    }
   ],
   "source": [
    "#reverse function is used to reverse the order of its elements\n",
    "my_list = [9,4,10,5,2,3,9,8,8,7,16,23,18]\n",
    "my_list.reverse()\n",
    "my_list"
   ]
  },
  {
   "cell_type": "code",
   "execution_count": 79,
   "id": "1f75814e",
   "metadata": {},
   "outputs": [
    {
     "data": {
      "text/plain": [
       "[2, 3, 4, 5, 7, 8, 8, 9, 9, 10, 16, 18, 23]"
      ]
     },
     "execution_count": 79,
     "metadata": {},
     "output_type": "execute_result"
    }
   ],
   "source": [
    "#The sort function is used to create a new list that is a sorted version of the original list without modifying the original list.\n",
    "my_list = [9,4,10,5,2,3,9,8,8,7,16,23,18]\n",
    "my_list.sort()\n",
    "my_list"
   ]
  },
  {
   "cell_type": "code",
   "execution_count": 80,
   "id": "8fe5d870",
   "metadata": {},
   "outputs": [
    {
     "data": {
      "text/plain": [
       "[9, 4, 10, 5, 2, 3, 9, 8, 8, 7, 16, 23, 18, 5]"
      ]
     },
     "execution_count": 80,
     "metadata": {},
     "output_type": "execute_result"
    }
   ],
   "source": [
    "#The append function is used to add an element to the end of a list. It modifies the original list in place\n",
    "my_list = [9,4,10,5,2,3,9,8,8,7,16,23,18]\n",
    "my_list.append(5)\n",
    "my_list"
   ]
  },
  {
   "cell_type": "code",
   "execution_count": 89,
   "id": "cf858c00",
   "metadata": {},
   "outputs": [
    {
     "data": {
      "text/plain": [
       "3"
      ]
     },
     "execution_count": 89,
     "metadata": {},
     "output_type": "execute_result"
    }
   ],
   "source": [
    "#The index funtion is used to find the index of the first occurrence of a specified value in the list\n",
    "my_list = [9,4,10,5,2,3,9,8,8,7,16,23,18]\n",
    "index=my_list.index(5)\n",
    "index"
   ]
  },
  {
   "cell_type": "code",
   "execution_count": 92,
   "id": "e856ef65",
   "metadata": {},
   "outputs": [
    {
     "data": {
      "text/plain": [
       "[9, 4, 5, 2, 3, 9, 8, 8, 7, 16, 23, 18]"
      ]
     },
     "execution_count": 92,
     "metadata": {},
     "output_type": "execute_result"
    }
   ],
   "source": [
    "#The pop function is used to remove and return the item at a specified index\n",
    "my_list = [9,4,10,5,2,3,9,8,8,7,16,23,18]\n",
    "my_list.pop(2)\n",
    "my_list"
   ]
  },
  {
   "cell_type": "raw",
   "id": "7fddb181",
   "metadata": {},
   "source": [
    "2.Tuples"
   ]
  },
  {
   "cell_type": "code",
   "execution_count": 96,
   "id": "076a576a",
   "metadata": {},
   "outputs": [
    {
     "data": {
      "text/plain": [
       "2"
      ]
     },
     "execution_count": 96,
     "metadata": {},
     "output_type": "execute_result"
    }
   ],
   "source": [
    "#The count function is used to count the number of occurrences of a specified element in a tuple\n",
    "my_turple = (9,4,10,5,2,3,9,8,8,7,16,23,18)\n",
    "count=my_turple.count(8)\n",
    "count"
   ]
  },
  {
   "cell_type": "code",
   "execution_count": 100,
   "id": "d91a1f4d",
   "metadata": {},
   "outputs": [
    {
     "name": "stdout",
     "output_type": "stream",
     "text": [
      "12\n"
     ]
    }
   ],
   "source": [
    "#The index function is used to find the index of the first occurrence of a specified value in a tuple\n",
    "my_tuple = (9,4,10,5,2,3,9,8,8,7,16,23,18)\n",
    "index = my_tuple.index(18)\n",
    "print(index)"
   ]
  },
  {
   "cell_type": "code",
   "execution_count": 101,
   "id": "5bc94d84",
   "metadata": {},
   "outputs": [
    {
     "name": "stdout",
     "output_type": "stream",
     "text": [
      "23\n"
     ]
    }
   ],
   "source": [
    "#The max function is used to find the maximum value in a tuple.\n",
    "my_tuple = (9,4,10,5,2,3,9,8,8,7,16,23,18)\n",
    "maximum =max(my_tuple) #to get the largest number\n",
    "print(maximum)"
   ]
  },
  {
   "cell_type": "code",
   "execution_count": 103,
   "id": "4352ddea",
   "metadata": {},
   "outputs": [
    {
     "name": "stdout",
     "output_type": "stream",
     "text": [
      "2\n"
     ]
    }
   ],
   "source": [
    "#The min function is used to find the miniimum value in a tuple.\n",
    "my_tuple = (9,4,10,5,2,3,9,8,8,7,16,23,18)\n",
    "minimum =min(my_tuple) #to get the smallest number\n",
    "print(minimum)"
   ]
  },
  {
   "cell_type": "code",
   "execution_count": 104,
   "id": "609ecbda",
   "metadata": {},
   "outputs": [
    {
     "name": "stdout",
     "output_type": "stream",
     "text": [
      "13\n"
     ]
    }
   ],
   "source": [
    "#The len functuon is used to get the length (number of elements) of an object, including tuples\n",
    "tuple = (9,4,10,5,2,3,9,8,8,7,16,23,18)\n",
    "length = len(my_tuple)\n",
    "print(length)"
   ]
  },
  {
   "cell_type": "code",
   "execution_count": 108,
   "id": "61ffdc03",
   "metadata": {},
   "outputs": [
    {
     "data": {
      "text/plain": [
       "[2, 3, 4, 5, 7, 8, 8, 9, 9, 10, 16, 18, 23]"
      ]
     },
     "execution_count": 108,
     "metadata": {},
     "output_type": "execute_result"
    }
   ],
   "source": [
    "#The sorted function is used to sort the elements of an iterable, including tuples\n",
    "my_tuple = (9,4,10,5,2,3,9,8,8,7,16,23,18)\n",
    "sort_tuple = sorted(my_tuple)\n",
    "sort_tuple"
   ]
  },
  {
   "cell_type": "code",
   "execution_count": 123,
   "id": "4cb2a08f",
   "metadata": {},
   "outputs": [
    {
     "name": "stdout",
     "output_type": "stream",
     "text": [
      "True\n"
     ]
    }
   ],
   "source": [
    "#To check if there are any boolean in my_tuple\n",
    "my_tuple = (True,4,False,5,2,0,9,True,8,7,0,23,False)\n",
    "any_tuple = any(my_tuple)\n",
    "print(any_tuple)"
   ]
  },
  {
   "cell_type": "raw",
   "id": "78d07e7c",
   "metadata": {},
   "source": [
    "3.DICTIONARY"
   ]
  },
  {
   "cell_type": "code",
   "execution_count": 124,
   "id": "33576677",
   "metadata": {},
   "outputs": [
    {
     "data": {
      "text/plain": [
       "'tito'"
      ]
     },
     "execution_count": 124,
     "metadata": {},
     "output_type": "execute_result"
    }
   ],
   "source": [
    "#get(): Returns the value for the specified key.\n",
    "dic = {\"name\":\"tito\",\"animal\":\"monkey\",\"school\":\"futa\",\"phone\":\"tecno\"}\n",
    "get_value = dic.get(\"name\")\n",
    "get_valie\n"
   ]
  },
  {
   "cell_type": "code",
   "execution_count": 126,
   "id": "9bd34af2",
   "metadata": {},
   "outputs": [
    {
     "name": "stdout",
     "output_type": "stream",
     "text": [
      "dict_keys(['name', 'animal', 'school', 'phone'])\n"
     ]
    }
   ],
   "source": [
    "#keys(): Returns a view of all keys in the dictionary.\n",
    "dic = {\"name\":\"tito\",\"animal\":\"monkey\",\"school\":\"futa\",\"phone\":\"tecno\"}\n",
    "keys = dic.keys()\n",
    "print(keys)"
   ]
  },
  {
   "cell_type": "code",
   "execution_count": 130,
   "id": "8a732803",
   "metadata": {},
   "outputs": [
    {
     "name": "stdout",
     "output_type": "stream",
     "text": [
      "{}\n"
     ]
    }
   ],
   "source": [
    "#clear(): Removes all items from the dictionary.\n",
    "dic = {\"name\":\"tito\",\"animal\":\"monkey\",\"school\":\"futa\",\"phone\":\"tecno\"}\n",
    "dic.clear()\n",
    "print(dic)"
   ]
  },
  {
   "cell_type": "code",
   "execution_count": 136,
   "id": "4682e9de",
   "metadata": {},
   "outputs": [
    {
     "data": {
      "text/plain": [
       "{'name': 'segun', 'b': 2, 'c': 3, 'd': 4, 'e': 5, 'town': 'Ikogosi'}"
      ]
     },
     "execution_count": 136,
     "metadata": {},
     "output_type": "execute_result"
    }
   ],
   "source": [
    "#dict(): Creates a new dictionary.\n",
    "my_dict =dict (name=\"segun\",b=2,c=3,d=4,e=5, town = \"Ikogosi\")\n",
    "my_dict\n"
   ]
  },
  {
   "cell_type": "code",
   "execution_count": 137,
   "id": "05f9ae0a",
   "metadata": {},
   "outputs": [
    {
     "name": "stdout",
     "output_type": "stream",
     "text": [
      "True\n"
     ]
    }
   ],
   "source": [
    "# in: Checks if a key is present in the dictionary.\n",
    "my_dict = {'name': 'segun', 'b': 2, 'c': 3, 'd': 4, 'e': 5, 'town': 'Ikogosi'}\n",
    "is_present = \"name\" in my_dict\n",
    "print(is_present)\n"
   ]
  },
  {
   "cell_type": "code",
   "execution_count": 140,
   "id": "dbf50862",
   "metadata": {},
   "outputs": [
    {
     "name": "stdout",
     "output_type": "stream",
     "text": [
      "True\n"
     ]
    }
   ],
   "source": [
    "#not in : Checks if a key is not present in the dictionary.\n",
    "my_dict = {'name': 'segun', 'b': 2, 'c': 3, 'd': 4, 'e': 5, 'town': 'Ikogosi'}\n",
    "not_present = \"f\" not in my_dict\n",
    "print(not_present)"
   ]
  },
  {
   "cell_type": "code",
   "execution_count": null,
   "id": "daf1991a",
   "metadata": {},
   "outputs": [],
   "source": []
  }
 ],
 "metadata": {
  "kernelspec": {
   "display_name": "Python 3 (ipykernel)",
   "language": "python",
   "name": "python3"
  },
  "language_info": {
   "codemirror_mode": {
    "name": "ipython",
    "version": 3
   },
   "file_extension": ".py",
   "mimetype": "text/x-python",
   "name": "python",
   "nbconvert_exporter": "python",
   "pygments_lexer": "ipython3",
   "version": "3.9.12"
  }
 },
 "nbformat": 4,
 "nbformat_minor": 5
}
